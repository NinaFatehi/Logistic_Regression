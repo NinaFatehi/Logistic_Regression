{
 "cells": [
  {
   "cell_type": "markdown",
   "metadata": {},
   "source": [
    "# Logistic Regression"
   ]
  },
  {
   "cell_type": "code",
   "execution_count": 1,
   "metadata": {},
   "outputs": [],
   "source": [
    "import numpy as np\n",
    "from numpy import *\n",
    "from matplotlib import pyplot as plt"
   ]
  },
  {
   "cell_type": "code",
   "execution_count": 2,
   "metadata": {},
   "outputs": [],
   "source": [
    "import pandas as pd"
   ]
  },
  {
   "cell_type": "code",
   "execution_count": 3,
   "metadata": {},
   "outputs": [],
   "source": [
    "X = []  \n",
    "y = []   "
   ]
  },
  {
   "cell_type": "code",
   "execution_count": 4,
   "metadata": {},
   "outputs": [],
   "source": [
    "def loadDataSet():\n",
    "    f=open('data.txt')\n",
    "    # Read data line by line and use strip to remove the Spaces \n",
    "    for line in f.readlines():\n",
    "        nline=line.strip().split()\n",
    "        # X has two columns\n",
    "        X.append([float(nline[0]),float(nline[1])])\n",
    "        y.append(int(nline[2]))\n",
    "    return mat(X).T,mat(y)"
   ]
  },
  {
   "cell_type": "code",
   "execution_count": 5,
   "metadata": {},
   "outputs": [],
   "source": [
    "X,y=loadDataSet()"
   ]
  },
  {
   "cell_type": "code",
   "execution_count": 6,
   "metadata": {
    "scrolled": true
   },
   "outputs": [
    {
     "data": {
      "text/plain": [
       "array([[ 0.0670709 , -0.32804226],\n",
       "       [-0.07510834,  0.27710622]])"
      ]
     },
     "execution_count": 6,
     "metadata": {},
     "output_type": "execute_result"
    }
   ],
   "source": [
    "np.random.randn(4).reshape(2,2)"
   ]
  },
  {
   "cell_type": "markdown",
   "metadata": {},
   "source": [
    "### Plotting the Data"
   ]
  },
  {
   "cell_type": "markdown",
   "metadata": {},
   "source": [
    "1) for plotting the data, I use the seaborn library.\n",
    "To use the seaborn, first I need to have data in forms of DataFrame (Pandas), because the seaborn is based on pandas."
   ]
  },
  {
   "cell_type": "code",
   "execution_count": 7,
   "metadata": {
    "scrolled": true
   },
   "outputs": [
    {
     "name": "stderr",
     "output_type": "stream",
     "text": [
      "<ipython-input-7-dd726cc046bc>:2: ParserWarning: Falling back to the 'python' engine because the 'c' engine does not support regex separators (separators > 1 char and different from '\\s+' are interpreted as regex); you can avoid this warning by specifying engine='python'.\n",
      "  my_data = pd.read_csv(\"C:\\\\Users\\\\Hana\\\\Desktop\\\\Question5.txt\",sep=\"   \", header=None)\n"
     ]
    },
    {
     "data": {
      "text/html": [
       "<div>\n",
       "<style scoped>\n",
       "    .dataframe tbody tr th:only-of-type {\n",
       "        vertical-align: middle;\n",
       "    }\n",
       "\n",
       "    .dataframe tbody tr th {\n",
       "        vertical-align: top;\n",
       "    }\n",
       "\n",
       "    .dataframe thead th {\n",
       "        text-align: right;\n",
       "    }\n",
       "</style>\n",
       "<table border=\"1\" class=\"dataframe\">\n",
       "  <thead>\n",
       "    <tr style=\"text-align: right;\">\n",
       "      <th></th>\n",
       "      <th>X1</th>\n",
       "      <th>X2</th>\n",
       "      <th>y</th>\n",
       "    </tr>\n",
       "  </thead>\n",
       "  <tbody>\n",
       "    <tr>\n",
       "      <th>0</th>\n",
       "      <td>-0.017612</td>\n",
       "      <td>14.053064</td>\n",
       "      <td>0</td>\n",
       "    </tr>\n",
       "    <tr>\n",
       "      <th>1</th>\n",
       "      <td>-1.395634</td>\n",
       "      <td>4.662541</td>\n",
       "      <td>1</td>\n",
       "    </tr>\n",
       "    <tr>\n",
       "      <th>2</th>\n",
       "      <td>-0.752157</td>\n",
       "      <td>6.538620</td>\n",
       "      <td>0</td>\n",
       "    </tr>\n",
       "    <tr>\n",
       "      <th>3</th>\n",
       "      <td>-1.322371</td>\n",
       "      <td>7.152853</td>\n",
       "      <td>0</td>\n",
       "    </tr>\n",
       "    <tr>\n",
       "      <th>4</th>\n",
       "      <td>0.423363</td>\n",
       "      <td>11.054677</td>\n",
       "      <td>0</td>\n",
       "    </tr>\n",
       "    <tr>\n",
       "      <th>...</th>\n",
       "      <td>...</td>\n",
       "      <td>...</td>\n",
       "      <td>...</td>\n",
       "    </tr>\n",
       "    <tr>\n",
       "      <th>95</th>\n",
       "      <td>0.677983</td>\n",
       "      <td>2.556666</td>\n",
       "      <td>1</td>\n",
       "    </tr>\n",
       "    <tr>\n",
       "      <th>96</th>\n",
       "      <td>0.761349</td>\n",
       "      <td>10.693862</td>\n",
       "      <td>0</td>\n",
       "    </tr>\n",
       "    <tr>\n",
       "      <th>97</th>\n",
       "      <td>-2.168791</td>\n",
       "      <td>0.143632</td>\n",
       "      <td>1</td>\n",
       "    </tr>\n",
       "    <tr>\n",
       "      <th>98</th>\n",
       "      <td>1.388610</td>\n",
       "      <td>9.341997</td>\n",
       "      <td>0</td>\n",
       "    </tr>\n",
       "    <tr>\n",
       "      <th>99</th>\n",
       "      <td>0.317029</td>\n",
       "      <td>14.739025</td>\n",
       "      <td>0</td>\n",
       "    </tr>\n",
       "  </tbody>\n",
       "</table>\n",
       "<p>100 rows × 3 columns</p>\n",
       "</div>"
      ],
      "text/plain": [
       "          X1         X2  y\n",
       "0  -0.017612  14.053064  0\n",
       "1  -1.395634   4.662541  1\n",
       "2  -0.752157   6.538620  0\n",
       "3  -1.322371   7.152853  0\n",
       "4   0.423363  11.054677  0\n",
       "..       ...        ... ..\n",
       "95  0.677983   2.556666  1\n",
       "96  0.761349  10.693862  0\n",
       "97 -2.168791   0.143632  1\n",
       "98  1.388610   9.341997  0\n",
       "99  0.317029  14.739025  0\n",
       "\n",
       "[100 rows x 3 columns]"
      ]
     },
     "execution_count": 7,
     "metadata": {},
     "output_type": "execute_result"
    }
   ],
   "source": [
    "# building a dataset from the text file\n",
    "my_data = pd.read_csv(\"C:\\\\Users\\\\Hana\\\\Desktop\\\\Question5.txt\",sep=\"   \", header=None)\n",
    "my_data.columns=['X1','X2', 'y']  # X1 and X2 are our features and y is the label.\n",
    "my_data"
   ]
  },
  {
   "cell_type": "code",
   "execution_count": 8,
   "metadata": {
    "scrolled": true
   },
   "outputs": [
    {
     "data": {
      "text/plain": [
       "<matplotlib.axes._subplots.AxesSubplot at 0x1d27eac4b20>"
      ]
     },
     "execution_count": 8,
     "metadata": {},
     "output_type": "execute_result"
    },
    {
     "data": {
      "image/png": "[encoded data removed]",
      "text/plain": [
       "<Figure size 432x288 with 1 Axes>"
      ]
     },
     "metadata": {
      "needs_background": "light"
     },
     "output_type": "display_data"
    }
   ],
   "source": [
    "import seaborn as sns   # Calling the seaborn library and naming it as 'sns'\n",
    "sns.scatterplot(data=my_data, x='X1', y='X2', hue='y') # the scatter plot of our data in two color seperated based on the labels"
   ]
  },
  {
   "cell_type": "markdown",
   "metadata": {},
   "source": [
    "2) We also can use numpy and matplotlib library for plotting the data as following:"
   ]
  },
  {
   "cell_type": "code",
   "execution_count": 9,
   "metadata": {
    "scrolled": false
   },
   "outputs": [
    {
     "data": {
      "image/png": "[encoded data removed]",
      "text/plain": [
       "<Figure size 432x288 with 1 Axes>"
      ]
     },
     "metadata": {
      "needs_background": "light"
     },
     "output_type": "display_data"
    }
   ],
   "source": [
    "X = np.array(X)\n",
    "y = np.array(y)\n",
    "plt.scatter(X[0],X[1],c=np.array(np.where(y<1,'purple','red'))[0,:])\n",
    "plt.show()\n"
   ]
  },
  {
   "cell_type": "code",
   "execution_count": 10,
   "metadata": {},
   "outputs": [],
   "source": [
    "def sigmoid(x):\n",
    "    s = 1/(1+np.exp(-x))\n",
    "    return s"
   ]
  },
  {
   "cell_type": "code",
   "execution_count": 11,
   "metadata": {
    "scrolled": false
   },
   "outputs": [],
   "source": [
    "def Logistic(X,y,W,b,n,alpha,iterations):\n",
    "    \n",
    "    '''\n",
    "    X: input data\n",
    "    y: labels\n",
    "    W: weight\n",
    "    b: bias\n",
    "    n: number of samples\n",
    "    alpha: learning rate\n",
    "    iterations: the number of iteration\n",
    "    '''\n",
    "    J = zeros((iterations,1))\n",
    "    for i in range(iterations):\n",
    "        \n",
    "        # step1 forward propagation\n",
    "        z = np.dot(X.T, W) + b         # Defining the z which is the activation function and a linear function   \n",
    "        y_hat = sigmoid(z)          ## one value in range [0,1] \n",
    "         \n",
    "        # compute cost function\n",
    "        Loss = -1/n * np.sum(y.T * np.log(y_hat)) + (1-y).T * np.log(1-y_hat)\n",
    "        #print(Loss, type(Loss))\n",
    "        #print(np.average(Loss))\n",
    "        J[i] = np.average(Loss)\n",
    "        \n",
    "        # step2 backpropagation\n",
    "        dW = np.dot(X, (y_hat - y.T))/n\n",
    "        db = 1/n * np.sum(y_hat - y.T)  \n",
    "                     \n",
    "        # step3 gradient descent\n",
    "\n",
    "        W = W - alpha * dW    \n",
    "        b -= alpha * db\n",
    "    return y_hat,W,b,J\n"
   ]
  },
  {
   "cell_type": "code",
   "execution_count": 12,
   "metadata": {},
   "outputs": [
    {
     "name": "stderr",
     "output_type": "stream",
     "text": [
      "<ipython-input-12-9b7a5822c734>:1: RuntimeWarning: divide by zero encountered in log\n",
      "  shape(log(1-y))\n"
     ]
    },
    {
     "data": {
      "text/plain": [
       "(1, 100)"
      ]
     },
     "execution_count": 12,
     "metadata": {},
     "output_type": "execute_result"
    }
   ],
   "source": [
    "shape(log(1-y))\n",
    "#shape(y)\n",
    "#shape(sigmoid(np.arange(100).reshape(100,1)))"
   ]
  },
  {
   "cell_type": "code",
   "execution_count": 13,
   "metadata": {},
   "outputs": [],
   "source": [
    "def plotBestFit(X,y,J,W,b,n,y_hat):\n",
    "    \n",
    "    '''\n",
    "    X: input data\n",
    "    y: labels\n",
    "    J: cost values\n",
    "    W: weight\n",
    "    b: bias\n",
    "    n: number of samples\n",
    "    y_hat: the predict labels from Logistic Regression \n",
    "    '''\n",
    "    \n",
    "    # Plot cost function figure\n",
    "    plt.plot(J)\n",
    "    plt.xlabel('Number of Iterations')\n",
    "    plt.ylabel('Loss')\n",
    "    plt.show()\n",
    "    \n",
    "    # Plot the final classification figure\n",
    "    plt.scatter(X[0], X[1], c = np.array(np.where(y < 1,'purple','red'))[0,:])\n",
    "    plt.scatter(np.arange(-4,4,0.1),(-W[0] * np.arange(-4,4,0.1) - b) / W[1], c='black')\n",
    "    plt.xlabel('X_0')\n",
    "    plt.ylabel('X_1')\n",
    "    plt.show()\n",
    "    #colors = np.array(np.where(y<1,'blue','red'))\n",
    "    #plt.scatter(np.array(X[:,0]), np.array(X[:,1]), c=colors[:,0])\n",
    "    #plt.scatter(np.arange(-4,4,0.1), np.array((-(0.91464413) * X.T -  8.515809773934198)/(-1.18448261)), c='black')\n",
    " \n",
    "    "
   ]
  },
  {
   "cell_type": "code",
   "execution_count": 14,
   "metadata": {},
   "outputs": [
    {
     "name": "stdout",
     "output_type": "stream",
     "text": [
      "Number of features is: 2 \n",
      "number of samples is: 100\n"
     ]
    }
   ],
   "source": [
    "num = X.shape[0]  # number of features\n",
    "n = X.shape[1] # number of samples\n",
    "print(\"Number of features is: {} \\nnumber of samples is: {}\".format(num,n))"
   ]
  },
  {
   "cell_type": "code",
   "execution_count": 15,
   "metadata": {},
   "outputs": [
    {
     "name": "stdout",
     "output_type": "stream",
     "text": [
      "0.007293793916684388\n"
     ]
    },
    {
     "data": {
      "text/plain": [
       "(2, 1)"
      ]
     },
     "execution_count": 15,
     "metadata": {},
     "output_type": "execute_result"
    }
   ],
   "source": [
    "# Initianlize the weights and bias\n",
    "## We can initialize W in two ways: 1) equaling all values to zero (W = np.zeros((num,1))), \n",
    "###2) using random and randomly slecet values (np.random.rand((num,1)))\n",
    "\n",
    "W = np.zeros((num,1)) ##Weights vector should be the same shape as the features vector\n",
    "#W = np.random.rand((num,1))\n",
    "\n",
    "import random\n",
    "b = random.uniform(-1,1)\n",
    "print(b)\n",
    "W.shape    "
   ]
  },
  {
   "cell_type": "code",
   "execution_count": 16,
   "metadata": {},
   "outputs": [],
   "source": [
    "# Learning rate\n",
    "\n",
    "alpha= 0.1"
   ]
  },
  {
   "cell_type": "code",
   "execution_count": 17,
   "metadata": {},
   "outputs": [],
   "source": [
    "# Iterations\n",
    "\n",
    "iterations = 100"
   ]
  },
  {
   "cell_type": "code",
   "execution_count": 18,
   "metadata": {
    "scrolled": true
   },
   "outputs": [
    {
     "name": "stdout",
     "output_type": "stream",
     "text": [
      "Learning Rate: 0.1\n",
      "Number of nIteration: 100\n"
     ]
    }
   ],
   "source": [
    "# Optimal Learning rate and Iterations\n",
    "print('Learning Rate: {}\\nNumber of nIteration: {}'.format(alpha, iterations))"
   ]
  },
  {
   "cell_type": "code",
   "execution_count": 19,
   "metadata": {
    "scrolled": false
   },
   "outputs": [
    {
     "name": "stdout",
     "output_type": "stream",
     "text": [
      "[[ 0.19656582]\n",
      " [-0.29135644]] 1.491663127563809\n"
     ]
    }
   ],
   "source": [
    "# Get the results from Logistic function\n",
    "y_hat,W,b,J = Logistic(X, y, W, b, n, alpha, iterations)\n",
    "print(W,b)\n",
    "#print('y_hat: {}\\nW: {}\\nb: {}\\nJ: {}'.format(y_hat,W,b,J))"
   ]
  },
  {
   "cell_type": "code",
   "execution_count": 20,
   "metadata": {},
   "outputs": [
    {
     "name": "stdout",
     "output_type": "stream",
     "text": [
      "Weights: [[ 0.19656582]\n",
      " [-0.29135644]]\n",
      "b: 1.491663127563809\n"
     ]
    }
   ],
   "source": [
    "#Final Weights and b\n",
    "print(\"Weights: {}\\nb: {}\".format(W,b))"
   ]
  },
  {
   "cell_type": "code",
   "execution_count": 21,
   "metadata": {},
   "outputs": [
    {
     "data": {
      "image/png": "[encoded data removed]",
      "text/plain": [
       "<Figure size 432x288 with 1 Axes>"
      ]
     },
     "metadata": {
      "needs_background": "light"
     },
     "output_type": "display_data"
    },
    {
     "data": {
      "image/png": "[encoded data removed]",
      "text/plain": [
       "<Figure size 432x288 with 1 Axes>"
      ]
     },
     "metadata": {
      "needs_background": "light"
     },
     "output_type": "display_data"
    }
   ],
   "source": [
    "# Plot figures\n",
    "plotBestFit(X, y, J, W, b, n, y_hat)"
   ]
  },
  {
   "cell_type": "markdown",
   "metadata": {},
   "source": [
    "## Final optimal values"
   ]
  },
  {
   "cell_type": "markdown",
   "metadata": {},
   "source": [
    "Weights: [[ 0.91464413]\n",
    " [-1.18448261]]\n",
    " \n",
    " \n",
    "b: 8.515809773934198"
   ]
  },
  {
   "cell_type": "markdown",
   "metadata": {},
   "source": [
    "alpha: 0.1\n",
    "\n",
    "iterations : 100"
   ]
  }
 ],
 "metadata": {
  "kernelspec": {
   "display_name": "Python 3",
   "language": "python",
   "name": "python3"
  },
  "language_info": {
   "codemirror_mode": {
    "name": "ipython",
    "version": 3
   },
   "file_extension": ".py",
   "mimetype": "text/x-python",
   "name": "python",
   "nbconvert_exporter": "python",
   "pygments_lexer": "ipython3",
   "version": "3.8.3"
  }
 },
 "nbformat": 4,
 "nbformat_minor": 2
}
